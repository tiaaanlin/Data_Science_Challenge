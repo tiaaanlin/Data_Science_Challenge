{
    "cells": [
        {
            "cell_type": "markdown",
            "metadata": {},
            "source": "   # Winter 2021 Data Science Intern Challenge "
        },
        {
            "cell_type": "markdown",
            "metadata": {},
            "source": "   ## Question1"
        },
        {
            "cell_type": "code",
            "execution_count": null,
            "metadata": {},
            "outputs": [],
            "source": "On Shopify, we have exactly 100 sneaker shops, and each of these shops sells only one model of shoe. We want to do some analysis of the average order value (AOV). When we look at orders data over a 30 day window, we naively calculate an AOV of $3145.13. Given that we know these shops are selling sneakers, a relatively affordable item, something seems wrong with our analysis. \n\n1.Think about what could be going wrong with our calculation. Think about a better way to evaluate this data.  \\\n2.What metric would you report for this dataset?\\\n3.What is its value?\n"
        },
        {
            "cell_type": "code",
            "execution_count": 36,
            "metadata": {},
            "outputs": [],
            "source": "import pandas as pd"
        },
        {
            "cell_type": "code",
            "execution_count": 37,
            "metadata": {},
            "outputs": [
                {
                    "data": {
                        "text/html": "<div>\n<style scoped>\n    .dataframe tbody tr th:only-of-type {\n        vertical-align: middle;\n    }\n\n    .dataframe tbody tr th {\n        vertical-align: top;\n    }\n\n    .dataframe thead th {\n        text-align: right;\n    }\n</style>\n<table border=\"1\" class=\"dataframe\">\n  <thead>\n    <tr style=\"text-align: right;\">\n      <th></th>\n      <th>order_id</th>\n      <th>shop_id</th>\n      <th>user_id</th>\n      <th>order_amount</th>\n      <th>total_items</th>\n      <th>payment_method</th>\n      <th>created_at</th>\n    </tr>\n  </thead>\n  <tbody>\n    <tr>\n      <th>0</th>\n      <td>1</td>\n      <td>53</td>\n      <td>746</td>\n      <td>224</td>\n      <td>2</td>\n      <td>cash</td>\n      <td>2017-03-13 12:36:56</td>\n    </tr>\n    <tr>\n      <th>1</th>\n      <td>2</td>\n      <td>92</td>\n      <td>925</td>\n      <td>90</td>\n      <td>1</td>\n      <td>cash</td>\n      <td>2017-03-03 17:38:52</td>\n    </tr>\n    <tr>\n      <th>2</th>\n      <td>3</td>\n      <td>44</td>\n      <td>861</td>\n      <td>144</td>\n      <td>1</td>\n      <td>cash</td>\n      <td>2017-03-14 4:23:56</td>\n    </tr>\n    <tr>\n      <th>3</th>\n      <td>4</td>\n      <td>18</td>\n      <td>935</td>\n      <td>156</td>\n      <td>1</td>\n      <td>credit_card</td>\n      <td>2017-03-26 12:43:37</td>\n    </tr>\n    <tr>\n      <th>4</th>\n      <td>5</td>\n      <td>18</td>\n      <td>883</td>\n      <td>156</td>\n      <td>1</td>\n      <td>credit_card</td>\n      <td>2017-03-01 4:35:11</td>\n    </tr>\n  </tbody>\n</table>\n</div>",
                        "text/plain": "   order_id  shop_id  user_id  order_amount  total_items payment_method  \\\n0         1       53      746           224            2           cash   \n1         2       92      925            90            1           cash   \n2         3       44      861           144            1           cash   \n3         4       18      935           156            1    credit_card   \n4         5       18      883           156            1    credit_card   \n\n            created_at  \n0  2017-03-13 12:36:56  \n1  2017-03-03 17:38:52  \n2   2017-03-14 4:23:56  \n3  2017-03-26 12:43:37  \n4   2017-03-01 4:35:11  "
                    },
                    "execution_count": 37,
                    "metadata": {},
                    "output_type": "execute_result"
                }
            ],
            "source": "#import the google doc file\nsheet_id = '16i38oonuX1y1g7C_UAmiK9GkY7cS-64DfiDMNiR41LM'\ndf=pd.read_csv(f'https://docs.google.com/spreadsheets/d/{sheet_id}/export?format=csv')\ndf.head()"
        },
        {
            "cell_type": "code",
            "execution_count": 38,
            "metadata": {},
            "outputs": [
                {
                    "data": {
                        "text/plain": "order_id           int64\nshop_id            int64\nuser_id            int64\norder_amount       int64\ntotal_items        int64\npayment_method    object\ncreated_at        object\ndtype: object"
                    },
                    "execution_count": 38,
                    "metadata": {},
                    "output_type": "execute_result"
                }
            ],
            "source": "df.dtypes"
        },
        {
            "cell_type": "code",
            "execution_count": 39,
            "metadata": {},
            "outputs": [
                {
                    "data": {
                        "text/plain": "3145.128"
                    },
                    "execution_count": 39,
                    "metadata": {},
                    "output_type": "execute_result"
                }
            ],
            "source": "df['order_amount'].sum()/df['order_id'].count()"
        },
        {
            "cell_type": "markdown",
            "metadata": {},
            "source": "The reason for this value is there is an outlier in this dataset, there is a order that total amount is 70400 and \nthe total item is 2000 pairs. This causes the AOV extremely high. To evaluate this data set, use the order_amount/total_items is a better\nway to report this dataset"
        },
        {
            "cell_type": "code",
            "execution_count": 40,
            "metadata": {
                "scrolled": true
            },
            "outputs": [],
            "source": "df['price_per_pair']=df['order_amount']/df['total_items']"
        },
        {
            "cell_type": "code",
            "execution_count": 41,
            "metadata": {},
            "outputs": [
                {
                    "data": {
                        "text/html": "<div>\n<style scoped>\n    .dataframe tbody tr th:only-of-type {\n        vertical-align: middle;\n    }\n\n    .dataframe tbody tr th {\n        vertical-align: top;\n    }\n\n    .dataframe thead th {\n        text-align: right;\n    }\n</style>\n<table border=\"1\" class=\"dataframe\">\n  <thead>\n    <tr style=\"text-align: right;\">\n      <th></th>\n      <th>order_id</th>\n      <th>shop_id</th>\n      <th>user_id</th>\n      <th>order_amount</th>\n      <th>total_items</th>\n      <th>payment_method</th>\n      <th>created_at</th>\n      <th>price_per_pair</th>\n    </tr>\n  </thead>\n  <tbody>\n    <tr>\n      <th>0</th>\n      <td>1</td>\n      <td>53</td>\n      <td>746</td>\n      <td>224</td>\n      <td>2</td>\n      <td>cash</td>\n      <td>2017-03-13 12:36:56</td>\n      <td>112.0</td>\n    </tr>\n    <tr>\n      <th>1</th>\n      <td>2</td>\n      <td>92</td>\n      <td>925</td>\n      <td>90</td>\n      <td>1</td>\n      <td>cash</td>\n      <td>2017-03-03 17:38:52</td>\n      <td>90.0</td>\n    </tr>\n    <tr>\n      <th>2</th>\n      <td>3</td>\n      <td>44</td>\n      <td>861</td>\n      <td>144</td>\n      <td>1</td>\n      <td>cash</td>\n      <td>2017-03-14 4:23:56</td>\n      <td>144.0</td>\n    </tr>\n    <tr>\n      <th>3</th>\n      <td>4</td>\n      <td>18</td>\n      <td>935</td>\n      <td>156</td>\n      <td>1</td>\n      <td>credit_card</td>\n      <td>2017-03-26 12:43:37</td>\n      <td>156.0</td>\n    </tr>\n    <tr>\n      <th>4</th>\n      <td>5</td>\n      <td>18</td>\n      <td>883</td>\n      <td>156</td>\n      <td>1</td>\n      <td>credit_card</td>\n      <td>2017-03-01 4:35:11</td>\n      <td>156.0</td>\n    </tr>\n  </tbody>\n</table>\n</div>",
                        "text/plain": "   order_id  shop_id  user_id  order_amount  total_items payment_method  \\\n0         1       53      746           224            2           cash   \n1         2       92      925            90            1           cash   \n2         3       44      861           144            1           cash   \n3         4       18      935           156            1    credit_card   \n4         5       18      883           156            1    credit_card   \n\n            created_at  price_per_pair  \n0  2017-03-13 12:36:56           112.0  \n1  2017-03-03 17:38:52            90.0  \n2   2017-03-14 4:23:56           144.0  \n3  2017-03-26 12:43:37           156.0  \n4   2017-03-01 4:35:11           156.0  "
                    },
                    "execution_count": 41,
                    "metadata": {},
                    "output_type": "execute_result"
                }
            ],
            "source": "df.head()"
        },
        {
            "cell_type": "code",
            "execution_count": 42,
            "metadata": {},
            "outputs": [
                {
                    "data": {
                        "text/plain": "387.7428"
                    },
                    "execution_count": 42,
                    "metadata": {},
                    "output_type": "execute_result"
                }
            ],
            "source": "df['price_per_pair'].mean()"
        },
        {
            "cell_type": "markdown",
            "metadata": {},
            "source": "After the calculation, the value 387.74 is more convincible for sneakers"
        },
        {
            "cell_type": "markdown",
            "metadata": {},
            "source": "## Question 2"
        },
        {
            "cell_type": "markdown",
            "metadata": {},
            "source": "For this question you\u2019ll need to use SQL. Follow this link to access the data set required for the challenge. Please use queries to answer the following questions. Paste your queries along with your final numerical answers below.\n\n1.How many orders were shipped by Speedy Express in total?\\\n2.What is the last name of the employee with the most orders?\\\n3.What product was ordered the most by customers in Germany?\n\n"
        },
        {
            "cell_type": "markdown",
            "metadata": {},
            "source": "1. 54 in total \\\n   SELECT COUNT(O.OrderID)\\\n   FROM Orders O,Shippers S\\\n   WHERE S.ShipperID = O.ShipperID AND S.ShipperName = 'Speedy Express'"
        },
        {
            "cell_type": "markdown",
            "metadata": {},
            "source": "2.  Last Name:Peacock \\\n    SELECT E.LastName, COUNT(O.OrderID) \\\n    FROM Orders O, Employees E\\\n    WHERE E.EmployeeID = O.EmployeeID\\\n    GROUP BY E.LastName\\\n    ORDER BY COUNT(O.OrderID) DESC"
        },
        {
            "cell_type": "markdown",
            "metadata": {},
            "source": "3. Product:Gorgonzola Telino\\\n    SELECT P.ProductName, COUNT(O.OrderID) FROM Products P, Orders O, OrderDetails D, Customers C\\\n    WHERE P.ProductID = D.ProductID AND O.OrderID = D.OrderID AND O.CustomerID = C.CustomerID \\\n    AND C.Country = 'Germany'\\\n    GROUP BY P.ProductName\\\n    ORDER BY COUNT(O.OrderID) DESC\n\n\n"
        }
    ],
    "metadata": {
        "kernelspec": {
            "display_name": "Python 3.6",
            "language": "python",
            "name": "python3"
        },
        "language_info": {
            "codemirror_mode": {
                "name": "ipython",
                "version": 3
            },
            "file_extension": ".py",
            "mimetype": "text/x-python",
            "name": "python",
            "nbconvert_exporter": "python",
            "pygments_lexer": "ipython3",
            "version": "3.6.9"
        }
    },
    "nbformat": 4,
    "nbformat_minor": 1
}